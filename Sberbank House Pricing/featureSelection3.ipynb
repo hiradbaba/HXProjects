{
 "cells": [
  {
   "cell_type": "code",
   "execution_count": 1,
   "metadata": {},
   "outputs": [],
   "source": [
    "import pandas\n",
    "import numpy as np\n",
    "import matplotlib.pyplot as plt\n",
    "import math\n",
    "df = pandas.read_csv('files/train.csv')"
   ]
  },
  {
   "cell_type": "code",
   "execution_count": 2,
   "metadata": {},
   "outputs": [],
   "source": [
    "df = df[df.price_doc<8*(10**7)]\n",
    "df = df[df.life_sq < df.full_sq]\n",
    "df = df[df.life_sq < 2000]\n",
    "df = df[df.full_sq < 2000]\n",
    "df = df[df.num_room < 7]\n",
    "df = df[df.build_year <2020]\n",
    "df = df[df.build_year >1950]\n",
    "df = df[df.kitch_sq < 40]\n",
    "df = df[df.public_healthcare_km < 30]\n",
    "df = df[df.metro_min_avto < 30]\n",
    "df = df[df.metro_min_walk < 30]\n",
    "df = df[df.museum_km < 30]\n",
    "df = df[df.fitness_km < 15]\n",
    "df = df[df.market_shop_km < 20]\n",
    "df = df[df.public_transport_station_km < 7.5]\n",
    "df = df[df.workplaces_km< 40]\n",
    "df = df[df.detention_facility_km< 60]\n",
    "df = df[df.additional_education_km <20]\n",
    "df = df[df.big_church_km <20]\n",
    "df = df[df.hospice_morgue_km <20]\n",
    "df = df[df.green_zone_km <20]\n",
    "df = df[df.catering_km < 8]"
   ]
  },
  {
   "cell_type": "code",
   "execution_count": 4,
   "metadata": {},
   "outputs": [],
   "source": [
    "from sklearn.feature_selection import SelectKBest,chi2,f_regression"
   ]
  },
  {
   "cell_type": "code",
   "execution_count": 3,
   "metadata": {},
   "outputs": [],
   "source": [
    "train_columns = list(\n",
    " \tset(df.select_dtypes(include=['float64', 'int64']).columns) - set(['id', 'timestamp', 'price_doc','ID_big_road1']))"
   ]
  },
  {
   "cell_type": "code",
   "execution_count": 5,
   "metadata": {},
   "outputs": [],
   "source": [
    "y = df['price_doc'].values\n",
    "x = df[train_columns].values\n",
    "y = y[~np.isnan(x).any(axis=1)]\n",
    "x = x[~np.isnan(x).any(axis=1)]"
   ]
  },
  {
   "cell_type": "code",
   "execution_count": 6,
   "metadata": {},
   "outputs": [],
   "source": [
    "\n",
    "test = SelectKBest(score_func=chi2,k=20)\n",
    "model = test.fit(x,y)\n",
    "np.set_printoptions(precision=4)\n",
    "scores = model.transform(x)"
   ]
  },
  {
   "cell_type": "code",
   "execution_count": 7,
   "metadata": {},
   "outputs": [
    {
     "data": {
      "text/plain": [
       "['children_school',\n",
       " 'sport_objects_raion',\n",
       " 'additional_education_raion',\n",
       " 'young_female',\n",
       " 'ekder_all',\n",
       " 'build_count_frame',\n",
       " 'build_count_monolith',\n",
       " 'cemetery_km',\n",
       " 'public_transport_station_min_walk',\n",
       " 'oil_chemistry_km',\n",
       " 'ice_rink_km',\n",
       " 'basketball_km',\n",
       " 'cafe_count_1000_price_1000',\n",
       " 'cafe_count_1000_price_high',\n",
       " 'leisure_count_1000',\n",
       " 'office_count_1500',\n",
       " 'cafe_sum_2000_max_price_avg',\n",
       " 'office_count_3000',\n",
       " 'trc_count_5000',\n",
       " 'trc_sqm_5000']"
      ]
     },
     "execution_count": 7,
     "metadata": {},
     "output_type": "execute_result"
    }
   ],
   "source": [
    "support = model.get_support()\n",
    "features = df.loc[:,support].columns.tolist()\n",
    "features"
   ]
  },
  {
   "cell_type": "code",
   "execution_count": 75,
   "metadata": {},
   "outputs": [
    {
     "data": {
      "text/plain": [
       "['max_floor',\n",
       " 'university_top_20_raion',\n",
       " 'shopping_centers_raion',\n",
       " 'work_all',\n",
       " '0_6_female',\n",
       " '7_14_all',\n",
       " 'build_count_monolith',\n",
       " 'build_count_mix',\n",
       " 'water_treatment_km',\n",
       " 'big_road1_km',\n",
       " 'fitness_km',\n",
       " 'ice_rink_km',\n",
       " 'stadium_km',\n",
       " 'hospice_morgue_km',\n",
       " 'additional_education_km',\n",
       " 'office_sqm_500',\n",
       " 'cafe_count_500_price_1500',\n",
       " 'cafe_count_500_price_4000',\n",
       " 'cafe_count_1000_price_1000',\n",
       " 'cafe_count_3000_price_2500']"
      ]
     },
     "execution_count": 75,
     "metadata": {},
     "output_type": "execute_result"
    },
    {
     "data": {
      "image/png": "[encoded data removed]",
      "text/plain": [
       "<Figure size 504x360 with 1 Axes>"
      ]
     },
     "metadata": {},
     "output_type": "display_data"
    }
   ],
   "source": [
    "import seaborn as sns\n",
    "f, ax1 = plt.subplots(1, 1, figsize=(7, 5), sharex=True)\n",
    "x1 = np.array(features)\n",
    "scores2 = []\n",
    "for i in range(len(model.scores_)):\n",
    "    if support[i] == True:\n",
    "        scores2.append(model.scores_[i])\n",
    "\n",
    "y1 = np.array(scores2)\n",
    "sns.barplot(x=x1,y=scores2,palette='rocket',ax=ax1)\n",
    "ax1.axhline(0, color=\"k\", clip_on=False)\n",
    "features"
   ]
  },
  {
   "cell_type": "code",
   "execution_count": 76,
   "metadata": {},
   "outputs": [],
   "source": [
    "test = SelectKBest(score_func=f_regression,k=20)\n",
    "model = test.fit(x,y)\n",
    "np.set_printoptions(precision=4)\n",
    "scores = model.transform(x)"
   ]
  },
  {
   "cell_type": "code",
   "execution_count": 77,
   "metadata": {},
   "outputs": [
    {
     "data": {
      "text/plain": [
       "['kitch_sq',\n",
       " 'state',\n",
       " 'indust_part',\n",
       " 'full_all',\n",
       " 'work_female',\n",
       " '0_13_female',\n",
       " 'build_count_monolith',\n",
       " 'build_count_after_1995',\n",
       " 'metro_km_avto',\n",
       " 'green_zone_km',\n",
       " 'industrial_km',\n",
       " 'sadovoe_km',\n",
       " 'ID_big_road2',\n",
       " 'leisure_count_1000',\n",
       " 'cafe_sum_1500_min_price_avg',\n",
       " 'cafe_count_1500_na_price',\n",
       " 'trc_count_2000',\n",
       " 'cafe_sum_2000_min_price_avg',\n",
       " 'cafe_count_2000_price_4000',\n",
       " 'sport_count_3000']"
      ]
     },
     "execution_count": 77,
     "metadata": {},
     "output_type": "execute_result"
    }
   ],
   "source": [
    "support = model.get_support()\n",
    "features = df.loc[:,support].columns.tolist()\n",
    "features"
   ]
  },
  {
   "cell_type": "code",
   "execution_count": 78,
   "metadata": {},
   "outputs": [
    {
     "data": {
      "text/plain": [
       "['kitch_sq',\n",
       " 'state',\n",
       " 'indust_part',\n",
       " 'full_all',\n",
       " 'work_female',\n",
       " '0_13_female',\n",
       " 'build_count_monolith',\n",
       " 'build_count_after_1995',\n",
       " 'metro_km_avto',\n",
       " 'green_zone_km',\n",
       " 'industrial_km',\n",
       " 'sadovoe_km',\n",
       " 'ID_big_road2',\n",
       " 'leisure_count_1000',\n",
       " 'cafe_sum_1500_min_price_avg',\n",
       " 'cafe_count_1500_na_price',\n",
       " 'trc_count_2000',\n",
       " 'cafe_sum_2000_min_price_avg',\n",
       " 'cafe_count_2000_price_4000',\n",
       " 'sport_count_3000']"
      ]
     },
     "execution_count": 78,
     "metadata": {},
     "output_type": "execute_result"
    },
    {
     "data": {
      "image/png": "[encoded data removed]",
      "text/plain": [
       "<Figure size 504x360 with 1 Axes>"
      ]
     },
     "metadata": {},
     "output_type": "display_data"
    }
   ],
   "source": [
    "f, ax1 = plt.subplots(1, 1, figsize=(7, 5), sharex=True)\n",
    "x1 = np.array(features)\n",
    "scores2 = []\n",
    "for i in range(len(model.scores_)):\n",
    "    if support[i] == True:\n",
    "        scores2.append(model.scores_[i])\n",
    "\n",
    "y1 = np.array(scores2)\n",
    "sns.barplot(x=x1,y=scores2,palette='rocket',ax=ax1)\n",
    "ax1.axhline(0, color=\"k\", clip_on=False)\n",
    "features"
   ]
  },
  {
   "cell_type": "code",
   "execution_count": 104,
   "metadata": {},
   "outputs": [
    {
     "name": "stdout",
     "output_type": "stream",
     "text": [
      "shopping_centers_raion\n",
      "build_count_monolith\n",
      "fitness_km\n",
      "ice_rink_km\n",
      "stadium_km\n",
      "additional_education_km\n"
     ]
    },
    {
     "data": {
      "image/png": "[encoded data removed]",
      "text/plain": [
       "<Figure size 504x360 with 1 Axes>"
      ]
     },
     "metadata": {},
     "output_type": "display_data"
    }
   ],
   "source": [
    "test = SelectKBest(score_func=chi2,k=6)\n",
    "model = test.fit(x,y)\n",
    "np.set_printoptions(precision=4)\n",
    "scores = model.transform(x)\n",
    "support = model.get_support()\n",
    "features = df.loc[:,support].columns.tolist()\n",
    "f, ax1 = plt.subplots(1, 1, figsize=(7, 5), sharex=True)\n",
    "x1 = np.array(features)\n",
    "scores2 = []\n",
    "for i in range(len(model.scores_)):\n",
    "    if support[i] == True:\n",
    "        scores2.append(model.scores_[i])\n",
    "\n",
    "y1 = np.array(scores2)\n",
    "sns.barplot(x=x1,y=scores2,palette='rocket',ax=ax1)\n",
    "ax1.axhline(0, color=\"k\", clip_on=False)\n",
    "for i in features:\n",
    "    print(i)"
   ]
  },
  {
   "cell_type": "code",
   "execution_count": 84,
   "metadata": {},
   "outputs": [
    {
     "name": "stdout",
     "output_type": "stream",
     "text": [
      "full_all\n",
      "sadovoe_km\n",
      "cafe_count_1500_na_price\n",
      "trc_count_2000\n",
      "cafe_sum_2000_min_price_avg\n",
      "sport_count_3000\n"
     ]
    },
    {
     "data": {
      "image/png": "[encoded data removed]",
      "text/plain": [
       "<Figure size 504x360 with 1 Axes>"
      ]
     },
     "metadata": {},
     "output_type": "display_data"
    }
   ],
   "source": [
    "train_columns = list(\n",
    " \tset(df.select_dtypes(include=['float64','int64']).columns) - set(['id', 'timestamp', 'price_doc','ID_big_road1']))\n",
    "y = df['price_doc'].values\n",
    "x = df[train_columns].values\n",
    "y = y[~np.isnan(x).any(axis=1)]\n",
    "x = x[~np.isnan(x).any(axis=1)]\n",
    "test = SelectKBest(score_func=f_regression,k=6)\n",
    "model = test.fit(x,y)\n",
    "np.set_printoptions(precision=4)\n",
    "scores = model.transform(x)\n",
    "support = model.get_support()\n",
    "features = df.loc[:,support].columns.tolist()\n",
    "f, ax1 = plt.subplots(1, 1, figsize=(7, 5), sharex=True)\n",
    "x1 = np.array(features)\n",
    "scores2 = []\n",
    "for i in range(len(model.scores_)):\n",
    "    if support[i] == True:\n",
    "        scores2.append(model.scores_[i])\n",
    "\n",
    "y1 = np.array(scores2)\n",
    "sns.barplot(x=x1,y=scores2,palette='rocket',ax=ax1)\n",
    "ax1.axhline(0, color=\"k\", clip_on=False)\n",
    "for i in features:\n",
    "    print(i)"
   ]
  },
  {
   "cell_type": "code",
   "execution_count": 93,
   "metadata": {},
   "outputs": [
    {
     "name": "stdout",
     "output_type": "stream",
     "text": [
      "full_sq\n",
      "floor\n",
      "max_floor\n",
      "material\n",
      "num_room\n",
      "sub_area\n",
      "children_preschool\n",
      "preschool_quota\n",
      "preschool_education_centers_raion\n",
      "children_school\n"
     ]
    },
    {
     "data": {
      "image/png": "[encoded data removed]",
      "text/plain": [
       "<Figure size 504x360 with 1 Axes>"
      ]
     },
     "metadata": {},
     "output_type": "display_data"
    }
   ],
   "source": [
    "feature = pandas.read_csv('features/features.csv')\n",
    "train_columns = list(set(feature['name'].values))\n",
    "y = df['price_doc'].values\n",
    "x = df[train_columns]\n",
    "y = y[~np.isnan(x).any(axis=1)]\n",
    "x = x[~np.isnan(x).any(axis=1)]\n",
    "test = SelectKBest(score_func=chi2,k=10)\n",
    "model = test.fit(x,y)\n",
    "np.set_printoptions(precision=4)\n",
    "scores = model.transform(x)\n",
    "support = model.get_support()\n",
    "features = df.loc[:,support].columns.tolist()\n",
    "f, ax1 = plt.subplots(1, 1, figsize=(7, 5), sharex=True)\n",
    "x1 = np.array(features)\n",
    "scores2 = []\n",
    "for i in range(len(model.scores_)):\n",
    "    if support[i] == True:\n",
    "        scores2.append(model.scores_[i])\n",
    "\n",
    "y1 = np.array(scores2)\n",
    "sns.barplot(x=x1,y=scores2,palette='rocket',ax=ax1)\n",
    "ax1.axhline(0, color=\"k\", clip_on=False)\n",
    "for i in features:\n",
    "    print(i)"
   ]
  },
  {
   "cell_type": "code",
   "execution_count": 100,
   "metadata": {},
   "outputs": [
    {
     "name": "stdout",
     "output_type": "stream",
     "text": [
      "id\n",
      "timestamp\n",
      "full_sq\n",
      "life_sq\n",
      "floor\n",
      "max_floor\n",
      "material\n",
      "build_year\n",
      "num_room\n",
      "kitch_sq\n"
     ]
    },
    {
     "data": {
      "image/png": "[encoded data removed]",
      "text/plain": [
       "<Figure size 504x360 with 1 Axes>"
      ]
     },
     "metadata": {},
     "output_type": "display_data"
    }
   ],
   "source": [
    "feature = pandas.read_csv('features/features.csv')\n",
    "train_columns = list(set(feature['name'].values))\n",
    "y = df['price_doc'].values\n",
    "x = df[train_columns].values\n",
    "y = y[~np.isnan(x).any(axis=1)]\n",
    "x = x[~np.isnan(x).any(axis=1)]\n",
    "test = SelectKBest(score_func=chi2,k='all')\n",
    "model = test.fit(x,y)\n",
    "np.set_printoptions(precision=4)\n",
    "scores = model.transform(x)\n",
    "support = model.get_support()\n",
    "features = df.loc[:,support].columns.tolist()\n",
    "f, ax1 = plt.subplots(1, 1, figsize=(7, 5), sharex=True)\n",
    "x1 = np.array(features)\n",
    "scores2 = []\n",
    "for i in range(len(model.scores_)):\n",
    "    if support[i] == True:\n",
    "        scores2.append(model.scores_[i])\n",
    "\n",
    "y1 = np.array(scores2)\n",
    "sns.barplot(x=x1,y=scores2,palette='rocket',ax=ax1)\n",
    "ax1.axhline(0, color=\"k\", clip_on=False)\n",
    "for i in features:\n",
    "    print(i)"
   ]
  },
  {
   "cell_type": "code",
   "execution_count": 105,
   "metadata": {},
   "outputs": [
    {
     "name": "stdout",
     "output_type": "stream",
     "text": [
      "id\n",
      "timestamp\n",
      "full_sq\n",
      "life_sq\n",
      "floor\n",
      "max_floor\n",
      "material\n",
      "build_year\n",
      "num_room\n",
      "kitch_sq\n",
      "state\n",
      "product_type\n"
     ]
    },
    {
     "data": {
      "image/png": "[encoded data removed]",
      "text/plain": [
       "<Figure size 504x360 with 1 Axes>"
      ]
     },
     "metadata": {},
     "output_type": "display_data"
    }
   ],
   "source": [
    "feature = pandas.read_csv('features/features.csv')\n",
    "train_columns = list(set(feature['name'].values))\n",
    "y = df['price_doc'].values\n",
    "x = df[train_columns].values\n",
    "y = y[~np.isnan(x).any(axis=1)]\n",
    "x = x[~np.isnan(x).any(axis=1)]\n",
    "test = SelectKBest(score_func=chi2,k='all')\n",
    "model = test.fit(x,y)\n",
    "np.set_printoptions(precision=4)\n",
    "scores = model.transform(x)\n",
    "support = model.get_support()\n",
    "features = df.loc[:,support].columns.tolist()\n",
    "f, ax1 = plt.subplots(1, 1, figsize=(7, 5), sharex=True)\n",
    "x1 = np.array(features)\n",
    "scores2 = []\n",
    "for i in range(len(model.scores_)):\n",
    "    if support[i] == True:\n",
    "        scores2.append(model.scores_[i])\n",
    "\n",
    "y1 = np.array(scores2)\n",
    "sns.barplot(x=x1,y=scores2,palette='rocket',ax=ax1)\n",
    "ax1.axhline(0, color=\"k\", clip_on=False)\n",
    "for i in features:\n",
    "    print(i)"
   ]
  },
  {
   "cell_type": "code",
   "execution_count": 9,
   "metadata": {},
   "outputs": [
    {
     "name": "stdout",
     "output_type": "stream",
     "text": [
      "area_m\n",
      "children_school\n",
      "sport_objects_raion\n",
      "additional_education_raion\n",
      "young_female\n",
      "ekder_all\n",
      "16_29_female\n",
      "build_count_frame\n",
      "build_count_monolith\n",
      "cemetery_km\n",
      "public_transport_station_min_walk\n",
      "oil_chemistry_km\n",
      "ice_rink_km\n",
      "basketball_km\n",
      "theater_km\n",
      "cafe_count_1000_price_1000\n",
      "cafe_count_1000_price_high\n",
      "leisure_count_1000\n",
      "office_count_1500\n",
      "cafe_sum_2000_max_price_avg\n",
      "office_count_3000\n",
      "trc_count_5000\n",
      "trc_sqm_5000\n"
     ]
    },
    {
     "data": {
      "image/png": "[encoded data removed]",
      "text/plain": [
       "<Figure size 504x360 with 1 Axes>"
      ]
     },
     "metadata": {},
     "output_type": "display_data"
    }
   ],
   "source": [
    "import seaborn as sns\n",
    "train_columns = list(\n",
    " \tset(df.select_dtypes(include=['float64','int64']).columns) - set(['id', 'timestamp', 'price_doc','ID_big_road1']))\n",
    "y = df['price_doc'].values\n",
    "x = df[train_columns].values\n",
    "y = y[~np.isnan(x).any(axis=1)]\n",
    "x = x[~np.isnan(x).any(axis=1)]\n",
    "test = SelectKBest(score_func=chi2,k=23)\n",
    "model = test.fit(x,y)\n",
    "np.set_printoptions(precision=4)\n",
    "scores = model.transform(x)\n",
    "support = model.get_support()\n",
    "features = df.loc[:,support].columns.tolist()\n",
    "f, ax1 = plt.subplots(1, 1, figsize=(7, 5), sharex=True)\n",
    "x1 = np.array(features)\n",
    "scores2 = []\n",
    "for i in range(len(model.scores_)):\n",
    "    if support[i] == True:\n",
    "        scores2.append(model.scores_[i])\n",
    "\n",
    "y1 = np.array(scores2)\n",
    "sns.barplot(x=x1,y=scores2,palette='rocket',ax=ax1)\n",
    "ax1.axhline(0, color=\"k\", clip_on=False)\n",
    "for i in features:\n",
    "    print(i)"
   ]
  },
  {
   "cell_type": "code",
   "execution_count": null,
   "metadata": {},
   "outputs": [],
   "source": []
  }
 ],
 "metadata": {
  "kernelspec": {
   "display_name": "Python 3",
   "language": "python",
   "name": "python3"
  },
  "language_info": {
   "codemirror_mode": {
    "name": "ipython",
    "version": 3
   },
   "file_extension": ".py",
   "mimetype": "text/x-python",
   "name": "python",
   "nbconvert_exporter": "python",
   "pygments_lexer": "ipython3",
   "version": "3.6.0"
  }
 },
 "nbformat": 4,
 "nbformat_minor": 2
}
